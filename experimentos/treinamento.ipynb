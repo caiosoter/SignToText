{
 "cells": [
  {
   "cell_type": "code",
   "execution_count": 37,
   "metadata": {},
   "outputs": [],
   "source": [
    "import cv2\n",
    "import numpy as np\n",
    "import os\n",
    "import time\n",
    "\n",
    "from tensorflow.keras.models import Sequential, load_model\n",
    "from tensorflow.keras.layers import LSTM, Dense, BatchNormalization\n",
    "from tensorflow.keras.callbacks import TensorBoard, EarlyStopping\n",
    "import tensorflow as tf\n",
    "\n",
    "from sklearn.model_selection import train_test_split\n",
    "from tensorflow.keras.utils import to_categorical\n",
    "from sklearn.metrics import multilabel_confusion_matrix, accuracy_score\n",
    "\n",
    "from sklearn.preprocessing import StandardScaler"
   ]
  },
  {
   "cell_type": "code",
   "execution_count": 2,
   "metadata": {},
   "outputs": [],
   "source": [
    "DATA_PATH = 'MP_DATA/'\n",
    "\n",
    "# Classes/Ações que queremos detectar: (Podemos expandir isso!!)\n",
    "actions = np.array([chr(i) for i in range(ord('A'), ord('I') + 1)])\n",
    " \n",
    "number_of_videos = 30 # Número de sequências ou vídeos que iremos coletar os frames (Pode ser modificado!)\n",
    "sequence_length = 180 # Para cada vídeo, iremos coletar 30 frames. (Pode ser modificado!)"
   ]
  },
  {
   "cell_type": "markdown",
   "metadata": {},
   "source": [
    "### Preprocessamento:"
   ]
  },
  {
   "cell_type": "code",
   "execution_count": 3,
   "metadata": {},
   "outputs": [],
   "source": [
    "# Dictonary comprehension para relacionar o número ao texto da classe:\n",
    "label_map = {label:num for num, label in enumerate(actions)}\n",
    "\n",
    "sequences, labels = [], []\n",
    "for action in actions:\n",
    "    for sequence in range(number_of_videos):\n",
    "        janela = []\n",
    "        for numero_frame in range(sequence_length):\n",
    "            res = np.load(DATA_PATH +  action + '/' +str(sequence) + '/' + \"{}.npy\".format(numero_frame))\n",
    "            janela.append(res)\n",
    "            \n",
    "        # Juntando as sequências:\n",
    "        sequences.append(janela)\n",
    "\n",
    "        # Juntando o respectivo label da sequência:\n",
    "        labels.append(label_map[action])"
   ]
  },
  {
   "cell_type": "code",
   "execution_count": 4,
   "metadata": {},
   "outputs": [],
   "source": [
    "# Transformando as features e o target em arrays:\n",
    "x = np.array(sequences)\n",
    "y = to_categorical(labels).astype(int)"
   ]
  },
  {
   "cell_type": "code",
   "execution_count": 5,
   "metadata": {},
   "outputs": [],
   "source": [
    "# Separando em conjunto de treinamento e teste:\n",
    "X_train, X_test, y_train, y_test = train_test_split(x, y, test_size=0.2, random_state=42)"
   ]
  },
  {
   "cell_type": "code",
   "execution_count": 6,
   "metadata": {},
   "outputs": [],
   "source": [
    "# Reshaping data:\n",
    "reshaped_train = np.reshape(X_train, (X_train.shape[0]*X_train.shape[1], X_train.shape[2]))\n",
    "reshaped_test = np.reshape(X_test, (X_test.shape[0] * X_test.shape[1], X_test.shape[2]))\n",
    "\n",
    "# Normalization:\n",
    "scaler = StandardScaler()\n",
    "normalized_train = scaler.fit_transform(reshaped_train)\n",
    "normalized_test = scaler.transform(reshaped_test)\n",
    "\n",
    "X_train_std = np.reshape(normalized_train, X_train.shape)\n",
    "X_test_std = np.reshape(normalized_test, X_test.shape)"
   ]
  },
  {
   "cell_type": "code",
   "execution_count": 7,
   "metadata": {},
   "outputs": [
    {
     "data": {
      "text/plain": [
       "(216, 180, 1662)"
      ]
     },
     "execution_count": 7,
     "metadata": {},
     "output_type": "execute_result"
    }
   ],
   "source": [
    "X_train.shape"
   ]
  },
  {
   "cell_type": "markdown",
   "metadata": {},
   "source": [
    "### Treinamento"
   ]
  },
  {
   "cell_type": "code",
   "execution_count": 8,
   "metadata": {},
   "outputs": [],
   "source": [
    "def get_run_logs(root):\n",
    "    run_id = time.strftime(\"run_%Y_%m_%d-%H_%M_%S\")\n",
    "    return os.path.join(root, run_id)"
   ]
  },
  {
   "cell_type": "code",
   "execution_count": 51,
   "metadata": {},
   "outputs": [],
   "source": [
    "# Arquitetura do modelo:\n",
    "model = Sequential()\n",
    "model.add(LSTM(64, return_sequences=True, activation='relu', input_shape=(180, 1662)))\n",
    "model.add(BatchNormalization())\n",
    "\n",
    "model.add(LSTM(128, return_sequences=True, activation='relu'))\n",
    "model.add(BatchNormalization())\n",
    "\n",
    "model.add(LSTM(64, return_sequences=False, activation='relu')) # return_sequences False, pois não iremos retornar as sequencias para a camada Fully connected.\n",
    "\n",
    "model.add(Dense(64, activation='relu'))\n",
    "model.add(BatchNormalization())\n",
    "\n",
    "model.add(Dense(32, activation='relu'))\n",
    "model.add(BatchNormalization())\n",
    "\n",
    "model.add(Dense(9, activation='softmax'))"
   ]
  },
  {
   "cell_type": "code",
   "execution_count": 52,
   "metadata": {},
   "outputs": [],
   "source": [
    "# Learning schedule:\n",
    "def exponential_decay_schedule(initial_lr, decay_rate, decay_steps):\n",
    "    lr_schedule = tf.keras.optimizers.schedules.ExponentialDecay(\n",
    "        initial_lr,\n",
    "        decay_steps=decay_steps,\n",
    "        decay_rate=decay_rate,\n",
    "        staircase=False  # Set to True if you want to apply decay at discrete intervals\n",
    "    )\n",
    "    return lr_schedule\n",
    "\n",
    "# Example usage:\n",
    "initial_lr = 0.01\n",
    "decay_rate = 0.5\n",
    "decay_steps = 1000\n",
    "lr_schedule = exponential_decay_schedule(initial_lr, decay_rate, decay_steps)"
   ]
  },
  {
   "cell_type": "code",
   "execution_count": 53,
   "metadata": {},
   "outputs": [],
   "source": [
    "# Compilar o modelo\n",
    "learning_rate = 0.001  # Defina a taxa de aprendizado desejada\n",
    "optimizer = tf.keras.optimizers.Adam(learning_rate=learning_rate, clipnorm=1.0)\n",
    "model.compile(optimizer=optimizer, loss='categorical_crossentropy', metrics=['accuracy'])"
   ]
  },
  {
   "cell_type": "code",
   "execution_count": 54,
   "metadata": {},
   "outputs": [
    {
     "name": "stdout",
     "output_type": "stream",
     "text": [
      "Epoch 1/1000\n",
      "6/6 [==============================] - 12s 653ms/step - loss: 2.7138 - accuracy: 0.0872 - val_loss: 7.2691 - val_accuracy: 0.1136\n",
      "Epoch 2/1000\n",
      "6/6 [==============================] - 3s 488ms/step - loss: 2.7093 - accuracy: 0.1453 - val_loss: 45.4354 - val_accuracy: 0.0909\n",
      "Epoch 3/1000\n",
      "6/6 [==============================] - 3s 515ms/step - loss: 2.5596 - accuracy: 0.1512 - val_loss: 54.0150 - val_accuracy: 0.1591\n",
      "Epoch 4/1000\n",
      "6/6 [==============================] - 3s 600ms/step - loss: 2.6788 - accuracy: 0.0814 - val_loss: 2.1454 - val_accuracy: 0.1818\n",
      "Epoch 5/1000\n",
      "6/6 [==============================] - 3s 513ms/step - loss: 2.5472 - accuracy: 0.1337 - val_loss: 2.1935 - val_accuracy: 0.1591\n",
      "Epoch 6/1000\n",
      "6/6 [==============================] - 3s 500ms/step - loss: 2.6301 - accuracy: 0.1105 - val_loss: 2.1929 - val_accuracy: 0.1591\n",
      "Epoch 7/1000\n",
      "6/6 [==============================] - 3s 595ms/step - loss: 2.6062 - accuracy: 0.0988 - val_loss: 2.1989 - val_accuracy: 0.1136\n",
      "Epoch 8/1000\n",
      "6/6 [==============================] - 3s 487ms/step - loss: 2.4035 - accuracy: 0.1163 - val_loss: 2.1956 - val_accuracy: 0.1591\n",
      "Epoch 9/1000\n",
      "6/6 [==============================] - 3s 505ms/step - loss: 2.5499 - accuracy: 0.1163 - val_loss: 2.1955 - val_accuracy: 0.1591\n",
      "Epoch 10/1000\n",
      "6/6 [==============================] - 4s 648ms/step - loss: 2.4621 - accuracy: 0.0872 - val_loss: 2.1953 - val_accuracy: 0.1591\n",
      "Epoch 11/1000\n",
      "6/6 [==============================] - 3s 531ms/step - loss: 2.5611 - accuracy: 0.1163 - val_loss: 2.1951 - val_accuracy: 0.1591\n",
      "Epoch 12/1000\n",
      "6/6 [==============================] - 3s 535ms/step - loss: 2.5289 - accuracy: 0.0872 - val_loss: 2.1948 - val_accuracy: 0.1591\n",
      "Epoch 13/1000\n",
      "6/6 [==============================] - 3s 514ms/step - loss: 2.5119 - accuracy: 0.1105 - val_loss: 2.1950 - val_accuracy: 0.1591\n",
      "Epoch 14/1000\n",
      "6/6 [==============================] - 3s 523ms/step - loss: 2.5530 - accuracy: 0.0930 - val_loss: 2.1955 - val_accuracy: 0.1591\n"
     ]
    },
    {
     "data": {
      "text/plain": [
       "<keras.src.callbacks.History at 0x1f5aa0cafd0>"
      ]
     },
     "execution_count": 54,
     "metadata": {},
     "output_type": "execute_result"
    }
   ],
   "source": [
    "# Diretório do relatório do treinamento:\n",
    "root_dir = os.path.join(os.curdir, \"my_logs\")\n",
    "run = get_run_logs(root_dir)\n",
    "\n",
    "# Callback do tensorboard:\n",
    "tb_callback = TensorBoard(log_dir=run)\n",
    "early_stopping = EarlyStopping(monitor='val_loss', patience=10, restore_best_weights=True)\n",
    "\n",
    "# Treinar o modelo\n",
    "batch = 32\n",
    "model.fit(X_train, y_train, epochs=1000, validation_split=0.2, callbacks=[tb_callback, early_stopping], batch_size=batch)"
   ]
  },
  {
   "cell_type": "code",
   "execution_count": null,
   "metadata": {},
   "outputs": [],
   "source": [
    "# Resumno sobre os paámetros treináveis do modelo:\n",
    "model.summary()"
   ]
  },
  {
   "cell_type": "code",
   "execution_count": null,
   "metadata": {},
   "outputs": [],
   "source": [
    "# Predições do modelo no conjunto de teste:\n",
    "resultado = model.predict(X_test)\n",
    "\n",
    "# Criando uma lista com o index da classe predita e da classe real:\n",
    "y_pred = [np.argmax(line) for line in resultado]\n",
    "y_test_pos = [np.argmax(line) for line in y_test]"
   ]
  },
  {
   "cell_type": "code",
   "execution_count": null,
   "metadata": {},
   "outputs": [],
   "source": [
    "# Calculando acurácia no conjunto de teste:\n",
    "acuracia = accuracy_score(y_test_pos, y_pred)\n",
    "print(f\"Acurácia - Test: {acuracia}\")"
   ]
  },
  {
   "cell_type": "code",
   "execution_count": null,
   "metadata": {},
   "outputs": [],
   "source": [
    "# Salvando o modelo\n",
    "model.save(r'modelos\\modelo6.keras')"
   ]
  }
 ],
 "metadata": {
  "kernelspec": {
   "display_name": "actionenv",
   "language": "python",
   "name": "python3"
  },
  "language_info": {
   "codemirror_mode": {
    "name": "ipython",
    "version": 3
   },
   "file_extension": ".py",
   "mimetype": "text/x-python",
   "name": "python",
   "nbconvert_exporter": "python",
   "pygments_lexer": "ipython3",
   "version": "3.11.0"
  },
  "orig_nbformat": 4
 },
 "nbformat": 4,
 "nbformat_minor": 2
}
