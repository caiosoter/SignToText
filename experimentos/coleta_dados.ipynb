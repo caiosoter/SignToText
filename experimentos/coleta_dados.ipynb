{
 "cells": [
  {
   "cell_type": "code",
   "execution_count": 5,
   "metadata": {},
   "outputs": [],
   "source": [
    "import cv2\n",
    "import numpy as np\n",
    "import matplotlib.pyplot as plt\n",
    "import time\n",
    "import mediapipe as mp\n",
    "import os\n",
    "\n",
    "from tensorflow.keras.models import Sequential, load_model\n",
    "from tensorflow.keras.layers import LSTM, Dense\n",
    "from tensorflow.keras.callbacks import TensorBoard, EarlyStopping\n",
    "\n",
    "from sklearn.model_selection import train_test_split\n",
    "from tensorflow.keras.utils import to_categorical\n",
    "\n",
    "from sklearn.metrics import multilabel_confusion_matrix, accuracy_score\n"
   ]
  },
  {
   "cell_type": "markdown",
   "metadata": {},
   "source": [
    "### keypoints using MP holistic"
   ]
  },
  {
   "cell_type": "code",
   "execution_count": 6,
   "metadata": {},
   "outputs": [],
   "source": [
    "mp_holistic = mp.solutions.holistic # Modelo Holístico\n",
    "mp_desenho = mp.solutions.drawing_utils # Utilidades para desenhos."
   ]
  },
  {
   "cell_type": "code",
   "execution_count": 7,
   "metadata": {},
   "outputs": [],
   "source": [
    "def mediapipe_detection(imagem, modelo):\n",
    "    imagem = cv2.cvtColor(imagem, cv2.COLOR_BGR2RGB) # Conversão de cor, de BGR to RGB.\n",
    "    imagem.flags.writeable = False                   # Desabilita a escrita na imagem\n",
    "    results = modelo.process(imagem)                 # Faz as previsões.\n",
    "    imagem.flags.writeable = True                    # Abilita a escrita na imagem.\n",
    "    imagem = cv2.cvtColor(imagem, cv2.COLOR_RGB2BGR) # Conversão de cor, de RGB to BGR.\n",
    "    return imagem, results"
   ]
  },
  {
   "cell_type": "code",
   "execution_count": 8,
   "metadata": {},
   "outputs": [],
   "source": [
    "def desenhar_pontos(imagem, resultados):\n",
    "    mp_desenho.draw_landmarks(imagem, resultados.face_landmarks, mp_holistic.FACEMESH_CONTOURS, \n",
    "                              mp_desenho.DrawingSpec(color=(80, 110, 10), thickness=1, circle_radius=1), # Cor/Estilo dos pontos.\n",
    "                              mp_desenho.DrawingSpec(color=(80, 256, 121), thickness=1, circle_radius=1) # Cor/Estilo das conexões.\n",
    "                              ) # Desenhar as conexões e os pontos no contorno da FACE\n",
    "    \n",
    "    mp_desenho.draw_landmarks(imagem, resultados.pose_landmarks, mp_holistic.POSE_CONNECTIONS,\n",
    "                              mp_desenho.DrawingSpec(color=(80, 22, 10), thickness=2, circle_radius=4),\n",
    "                              mp_desenho.DrawingSpec(color=(80, 44, 121), thickness=2, circle_radius=2),\n",
    "                              ) # Desenhar as conexões e os pontos no Tronco\n",
    "    \n",
    "    mp_desenho.draw_landmarks(imagem, resultados.left_hand_landmarks, mp_holistic.HAND_CONNECTIONS,\n",
    "                              mp_desenho.DrawingSpec(color=(121, 22, 76), thickness=2, circle_radius=4),\n",
    "                              mp_desenho.DrawingSpec(color=(121, 44, 250), thickness=2, circle_radius=2)\n",
    "                              ) # Desenhar as conexões e os pontos na mão esquerda\n",
    "    \n",
    "    mp_desenho.draw_landmarks(imagem, resultados.right_hand_landmarks, mp_holistic.HAND_CONNECTIONS,\n",
    "                              mp_desenho.DrawingSpec(color=(245, 117, 66), thickness=2, circle_radius=4),\n",
    "                              mp_desenho.DrawingSpec(color=(245, 66, 230), thickness=2, circle_radius=2)\n",
    "                              ) # Desenhar as conexões e os pontos na mão direita\n",
    "    return imagem\n"
   ]
  },
  {
   "cell_type": "markdown",
   "metadata": {},
   "source": [
    "### Extract Keypoint Values"
   ]
  },
  {
   "cell_type": "code",
   "execution_count": 9,
   "metadata": {},
   "outputs": [],
   "source": [
    "# Função para extrair as variáveis espaciais dos landmarks de cada frame:\n",
    "def extract_points(results):\n",
    "    pose = np.array([[res.x, res.y, res.z, res.visibility] for res in results.pose_landmarks.landmark]).flatten() if results.pose_landmarks else np.zeros(33*4)\n",
    "    left_hand = np.array([[res.x, res.y, res.z] for res in results.left_hand_landmarks.landmark]).flatten() if results.left_hand_landmarks else np.zeros(21*3)\n",
    "    right_hand = np.array([[res.x, res.y, res.z] for res in results.right_hand_landmarks.landmark]).flatten() if results.right_hand_landmarks else np.zeros(21*3)\n",
    "    face = np.array([[res.x, res.y, res.z] for res in results.face_landmarks.landmark]).flatten() if results.face_landmarks else np.zeros(468*3)\n",
    "    return np.concatenate([pose, face, left_hand, right_hand])"
   ]
  },
  {
   "cell_type": "markdown",
   "metadata": {},
   "source": [
    "### Setup Folders for Collection"
   ]
  },
  {
   "cell_type": "code",
   "execution_count": 12,
   "metadata": {},
   "outputs": [],
   "source": [
    "DATA_PATH = os.path.join('MP_DATA_2')\n",
    "\n",
    "# Classes/Ações que queremos detectar: (Podemos expandir isso!!)\n",
    "actions = np.array([chr(i) for i in range(ord('A'), ord('I') + 1)])\n",
    " \n",
    "number_of_videos = 30 # Número de sequências ou vídeos que iremos coletar os frames (Pode ser modificado!)\n",
    "sequence_length = 180 # Para cada vídeo, iremos coletar 30 frames. (Pode ser modificado!)"
   ]
  },
  {
   "cell_type": "code",
   "execution_count": 13,
   "metadata": {},
   "outputs": [],
   "source": [
    "for action in actions:\n",
    "    for sequence in range(number_of_videos):\n",
    "        try:\n",
    "            os.makedirs(os.path.join(DATA_PATH, action, str(sequence)))\n",
    "        except FileExistsError:\n",
    "            print(\"Folder já existe!!\")"
   ]
  },
  {
   "cell_type": "code",
   "execution_count": 14,
   "metadata": {},
   "outputs": [],
   "source": [
    "import os\n",
    "import shutil\n",
    "\n",
    "# Define the paths\n",
    "MP_DATA = os.path.join('MP_DATA')\n",
    "MP_DATA_2 = os.path.join('MP_DATA_2')\n",
    "mp_final = os.path.join('MP_DATA_final')\n",
    "\n",
    "# Ensure the final path exists\n",
    "if not os.path.exists(mp_final):\n",
    "    os.makedirs(mp_final)\n",
    "\n",
    "# Iterate over each of the lettered folders (A to I)\n",
    "for folder in ['A', 'B', 'C', 'D', 'E', 'F', 'G', 'H', 'I']:\n",
    "    \n",
    "    # Define the paths for the current lettered folder for MP_DATA and MP_DATA_2\n",
    "    path1 = os.path.join(MP_DATA, folder)\n",
    "    path2 = os.path.join(MP_DATA_2, folder)\n",
    "    \n",
    "    # Define the final path for the lettered folder and ensure it exists\n",
    "    final_path = os.path.join(mp_final, folder)\n",
    "    if not os.path.exists(final_path):\n",
    "        os.makedirs(final_path)\n",
    "\n",
    "    # First, copy the contents of the lettered folder from MP_DATA\n",
    "    for subfolder in range(30):\n",
    "        src = os.path.join(path1, str(subfolder))\n",
    "        dest = os.path.join(final_path, str(subfolder))\n",
    "        \n",
    "        if os.path.exists(src):\n",
    "            shutil.copytree(src, dest)\n",
    "\n",
    "    # Next, copy the contents of the lettered folder from MP_DATA_2 and rename them from 30 to 59\n",
    "    for subfolder in range(30):\n",
    "        src = os.path.join(path2, str(subfolder))\n",
    "        dest = os.path.join(final_path, str(subfolder + 30))\n",
    "        \n",
    "        if os.path.exists(src):\n",
    "            shutil.copytree(src, dest)"
   ]
  },
  {
   "cell_type": "markdown",
   "metadata": {},
   "source": [
    "### Collecting Keypoints Values for training and testing"
   ]
  },
  {
   "cell_type": "code",
   "execution_count": 15,
   "metadata": {},
   "outputs": [],
   "source": [
    "DATA_PATH = 'MP_DATA_final'\n",
    "\n",
    "cap = cv2.VideoCapture(0) # Acessa a nossa Webcam.\n",
    "\n",
    "with mp_holistic.Holistic(min_detection_confidence=0.5, min_tracking_confidence=0.5) as holistic: # Obre o modelo usando ooperador de contexto.\n",
    "\n",
    "    for action in ['C']:\n",
    "        for sequence in range(30, 32):\n",
    "            flag = False\n",
    "            for numero_frame in range(sequence_length + 1):\n",
    "                \n",
    "                # Lê o frame:\n",
    "                ret, frame = cap.read()\n",
    "\n",
    "                image, results = mediapipe_detection(frame, holistic)\n",
    "                    \n",
    "                # Desenha os landmarks:\n",
    "                desenhar_pontos(image, results)\n",
    "\n",
    "                if cv2.waitKey(8) & 0xFF == ord('p'):\n",
    "                    print(\"VIDEO PAUSED\")\n",
    "                    while True:\n",
    "                        if cv2.waitKey(8) & 0xFF == ord('p'):\n",
    "                            print(\"VIDEO PLAYED\")\n",
    "                            break\n",
    "\n",
    "                # Lógica para organizar a coleta dos dados:\n",
    "                if numero_frame == 0:\n",
    "                    cv2.putText(image, 'STARTING COLLECTION', (120, 200),\n",
    "                                cv2.FONT_HERSHEY_SIMPLEX, 1, (0, 255, 0), 4, cv2.LINE_AA)\n",
    "                    cv2.putText(image, 'Coletando os frames para {} - video numero {}'.format(action, sequence), (15, 30),\n",
    "                                cv2.FONT_HERSHEY_SIMPLEX, 1, (0, 0, 255), 4, cv2.LINE_AA)\n",
    "                    cv2.putText(image, 'PRESS R TO START', (120, 250),\n",
    "                                cv2.FONT_HERSHEY_SIMPLEX, 1, (0, 255, 0), 4, cv2.LINE_AA)\n",
    "                else:\n",
    "                    cv2.putText(image, 'Coletando os frames para {} - video numero {} - frame {}'.format(action, sequence, numero_frame), (15, 30),\n",
    "                                cv2.FONT_HERSHEY_SIMPLEX, 1, (0, 0, 255), 4, cv2.LINE_AA)\n",
    "\n",
    "                if numero_frame != 0:\n",
    "                    results_extraction = extract_points(results)\n",
    "                    numpy_file_path = os.path.join(DATA_PATH, action, str(sequence), str(numero_frame-1))\n",
    "                    np.save(numpy_file_path, results_extraction)\n",
    "\n",
    "                # Mostra a tela:\n",
    "                cv2.imshow('OpenCV Feed', image)\n",
    "\n",
    "                if numero_frame == 0:\n",
    "                    while flag == False:\n",
    "                        if cv2.waitKey(8) & 0xFF == ord('r'):\n",
    "                            # cv2.waitKey(2000)\n",
    "                            flag = True\n",
    "                \n",
    "                # Sai do loop depois de 10 seg ou quando o usuário aperta a letra \"q\":\n",
    "                if cv2.waitKey(10) & 0xFF == ord('q'):\n",
    "                    break\n",
    "\n",
    "    cap.release()\n",
    "    cv2.destroyAllWindows()"
   ]
  },
  {
   "cell_type": "code",
   "execution_count": 48,
   "metadata": {},
   "outputs": [],
   "source": [
    "cap.release()\n",
    "cv2.destroyAllWindows()"
   ]
  },
  {
   "cell_type": "markdown",
   "metadata": {},
   "source": [
    "### Preprocess Data and Creating labels and Features"
   ]
  },
  {
   "cell_type": "code",
   "execution_count": 51,
   "metadata": {},
   "outputs": [],
   "source": [
    "label_map = {label:num for num, label in enumerate(actions)}"
   ]
  },
  {
   "cell_type": "code",
   "execution_count": 52,
   "metadata": {},
   "outputs": [
    {
     "ename": "KeyboardInterrupt",
     "evalue": "",
     "output_type": "error",
     "traceback": [
      "\u001b[1;31m---------------------------------------------------------------------------\u001b[0m",
      "\u001b[1;31mKeyboardInterrupt\u001b[0m                         Traceback (most recent call last)",
      "Cell \u001b[1;32mIn[52], line 7\u001b[0m\n\u001b[0;32m      5\u001b[0m janela \u001b[39m=\u001b[39m []\n\u001b[0;32m      6\u001b[0m \u001b[39mfor\u001b[39;00m numero_frame \u001b[39min\u001b[39;00m \u001b[39mrange\u001b[39m(sequence_length):\n\u001b[1;32m----> 7\u001b[0m     res \u001b[39m=\u001b[39m np\u001b[39m.\u001b[39;49mload(os\u001b[39m.\u001b[39;49mpath\u001b[39m.\u001b[39;49mjoin(DATA_PATH, action, \u001b[39mstr\u001b[39;49m(sequence), \u001b[39m\"\u001b[39;49m\u001b[39m{}\u001b[39;49;00m\u001b[39m.npy\u001b[39;49m\u001b[39m\"\u001b[39;49m\u001b[39m.\u001b[39;49mformat(numero_frame)))\n\u001b[0;32m      8\u001b[0m     janela\u001b[39m.\u001b[39mappend(res)\n\u001b[0;32m      9\u001b[0m sequences\u001b[39m.\u001b[39mappend(janela)\n",
      "File \u001b[1;32mc:\\Users\\henri\\AppData\\Local\\Programs\\Python\\Python311\\Lib\\site-packages\\numpy\\lib\\npyio.py:405\u001b[0m, in \u001b[0;36mload\u001b[1;34m(file, mmap_mode, allow_pickle, fix_imports, encoding, max_header_size)\u001b[0m\n\u001b[0;32m    403\u001b[0m     own_fid \u001b[39m=\u001b[39m \u001b[39mFalse\u001b[39;00m\n\u001b[0;32m    404\u001b[0m \u001b[39melse\u001b[39;00m:\n\u001b[1;32m--> 405\u001b[0m     fid \u001b[39m=\u001b[39m stack\u001b[39m.\u001b[39menter_context(\u001b[39mopen\u001b[39m(os_fspath(file), \u001b[39m\"\u001b[39m\u001b[39mrb\u001b[39m\u001b[39m\"\u001b[39m))\n\u001b[0;32m    406\u001b[0m     own_fid \u001b[39m=\u001b[39m \u001b[39mTrue\u001b[39;00m\n\u001b[0;32m    408\u001b[0m \u001b[39m# Code to distinguish from NumPy binary files and pickles.\u001b[39;00m\n",
      "\u001b[1;31mKeyboardInterrupt\u001b[0m: "
     ]
    }
   ],
   "source": [
    "sequences, labels = [], []\n",
    "\n",
    "for action in actions:\n",
    "    for sequence in range(number_of_videos):\n",
    "        janela = []\n",
    "        for numero_frame in range(sequence_length):\n",
    "            res = np.load(os.path.join(DATA_PATH, action, str(sequence), \"{}.npy\".format(numero_frame)))\n",
    "            janela.append(res)\n",
    "        sequences.append(janela)\n",
    "        labels.append(label_map[action])"
   ]
  }
 ],
 "metadata": {
  "kernelspec": {
   "display_name": "Python 3",
   "language": "python",
   "name": "python3"
  },
  "language_info": {
   "codemirror_mode": {
    "name": "ipython",
    "version": 3
   },
   "file_extension": ".py",
   "mimetype": "text/x-python",
   "name": "python",
   "nbconvert_exporter": "python",
   "pygments_lexer": "ipython3",
   "version": "3.11.0"
  },
  "orig_nbformat": 4
 },
 "nbformat": 4,
 "nbformat_minor": 2
}
